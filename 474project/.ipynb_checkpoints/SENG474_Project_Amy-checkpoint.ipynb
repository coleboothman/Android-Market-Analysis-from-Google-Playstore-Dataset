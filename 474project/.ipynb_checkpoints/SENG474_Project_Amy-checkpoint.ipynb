{
 "cells": [
  {
   "cell_type": "markdown",
   "metadata": {},
   "source": [
    "# Exploring the Android App Market - A Data Mining Analysis of Google Playstore Applications \n",
    "\n"
   ]
  },
  {
   "cell_type": "markdown",
   "metadata": {},
   "source": [
    "SENG 474 Fall 2018 Data Mining Project<br>\n",
    "Cole Boothman St.ID V00808231 <br>\n",
    "Amy Hanvoravongchai V00822271 <br>"
   ]
  },
  {
   "cell_type": "markdown",
   "metadata": {},
   "source": [
    "Using the Naive Bayes text classification algorithm, an analysis of user reviews was made based on the sentiment rating given to each review. \n",
    "<br>\n",
    "This data file contains the first 'most relevant' 100 reviews for each app. Each review text or comment has been pre-processed and attributed with 3 new features: Sentiment, Sentiment Polarity, and Sentiment Subjectivity.\n",
    "The user reviews data for application of the Google Playstore has a total of 37427 entries."
   ]
  },
  {
   "cell_type": "markdown",
   "metadata": {},
   "source": [
    "The first thing we need to do is load our data file. The data is in CSV format without a header line or any quotes. We can open the file with the open function and read the data lines using the reader function in the CSV module."
   ]
  },
  {
   "cell_type": "code",
   "execution_count": 1,
   "metadata": {
    "scrolled": true
   },
   "outputs": [
    {
     "data": {
      "text/html": [
       "<div>\n",
       "<style scoped>\n",
       "    .dataframe tbody tr th:only-of-type {\n",
       "        vertical-align: middle;\n",
       "    }\n",
       "\n",
       "    .dataframe tbody tr th {\n",
       "        vertical-align: top;\n",
       "    }\n",
       "\n",
       "    .dataframe thead th {\n",
       "        text-align: right;\n",
       "    }\n",
       "</style>\n",
       "<table border=\"1\" class=\"dataframe\">\n",
       "  <thead>\n",
       "    <tr style=\"text-align: right;\">\n",
       "      <th></th>\n",
       "      <th>Translated_Review</th>\n",
       "      <th>Sentiment</th>\n",
       "      <th>Sentiment_Polarity</th>\n",
       "      <th>Sentiment_Subjectivity</th>\n",
       "    </tr>\n",
       "  </thead>\n",
       "  <tbody>\n",
       "    <tr>\n",
       "      <th>0</th>\n",
       "      <td>I like eat delicious food. That's I'm cooking ...</td>\n",
       "      <td>Positive</td>\n",
       "      <td>1.00</td>\n",
       "      <td>0.533333</td>\n",
       "    </tr>\n",
       "    <tr>\n",
       "      <th>1</th>\n",
       "      <td>This help eating healthy exercise regular basis</td>\n",
       "      <td>Positive</td>\n",
       "      <td>0.25</td>\n",
       "      <td>0.288462</td>\n",
       "    </tr>\n",
       "    <tr>\n",
       "      <th>2</th>\n",
       "      <td>NaN</td>\n",
       "      <td>NaN</td>\n",
       "      <td>NaN</td>\n",
       "      <td>NaN</td>\n",
       "    </tr>\n",
       "    <tr>\n",
       "      <th>3</th>\n",
       "      <td>Works great especially going grocery store</td>\n",
       "      <td>Positive</td>\n",
       "      <td>0.40</td>\n",
       "      <td>0.875000</td>\n",
       "    </tr>\n",
       "    <tr>\n",
       "      <th>4</th>\n",
       "      <td>Best idea us</td>\n",
       "      <td>Positive</td>\n",
       "      <td>1.00</td>\n",
       "      <td>0.300000</td>\n",
       "    </tr>\n",
       "  </tbody>\n",
       "</table>\n",
       "</div>"
      ],
      "text/plain": [
       "                                   Translated_Review Sentiment  \\\n",
       "0  I like eat delicious food. That's I'm cooking ...  Positive   \n",
       "1    This help eating healthy exercise regular basis  Positive   \n",
       "2                                                NaN       NaN   \n",
       "3         Works great especially going grocery store  Positive   \n",
       "4                                       Best idea us  Positive   \n",
       "\n",
       "   Sentiment_Polarity  Sentiment_Subjectivity  \n",
       "0                1.00                0.533333  \n",
       "1                0.25                0.288462  \n",
       "2                 NaN                     NaN  \n",
       "3                0.40                0.875000  \n",
       "4                1.00                0.300000  "
      ]
     },
     "execution_count": 1,
     "metadata": {},
     "output_type": "execute_result"
    }
   ],
   "source": [
    "import pandas as pd\n",
    "import random\n",
    "import re\n",
    "\n",
    "# Read the data from a file\n",
    "data = pd.read_csv('googleplaystore_user_reviews.csv', encoding = \"ISO-8859-1\")\n",
    "data = data.iloc[:, 1:]\n",
    "data.head()"
   ]
  },
  {
   "cell_type": "code",
   "execution_count": 2,
   "metadata": {},
   "outputs": [
    {
     "name": "stdout",
     "output_type": "stream",
     "text": [
      "<class 'pandas.core.frame.DataFrame'>\n",
      "Int64Index: 37427 entries, 0 to 64230\n",
      "Data columns (total 4 columns):\n",
      "Translated_Review         37427 non-null object\n",
      "Sentiment                 37427 non-null object\n",
      "Sentiment_Polarity        37427 non-null float64\n",
      "Sentiment_Subjectivity    37427 non-null float64\n",
      "dtypes: float64(2), object(2)\n",
      "memory usage: 1.4+ MB\n"
     ]
    }
   ],
   "source": [
    "data = data[pd.notnull(data['Translated_Review'])]\n",
    "data.info()"
   ]
  },
  {
   "cell_type": "markdown",
   "metadata": {},
   "source": [
    "In the figure below, is a graphic for the reviews grouped by their sentiment value. Positive value seems to be highest, by far, and neutral as lowest. "
   ]
  },
  {
   "cell_type": "code",
   "execution_count": 3,
   "metadata": {},
   "outputs": [
    {
     "data": {
      "text/plain": [
       "<Figure size 800x600 with 1 Axes>"
      ]
     },
     "metadata": {},
     "output_type": "display_data"
    }
   ],
   "source": [
    "import matplotlib.pyplot as plt\n",
    "fig = plt.figure(figsize=(8,6))\n",
    "data.groupby('Sentiment').Translated_Review.count().plot.barh(ylim=0)\n",
    "plt.show()"
   ]
  },
  {
   "cell_type": "markdown",
   "metadata": {},
   "source": [
    "We want to convert obtained dataframe into list. It filters out irrelevant columns not used in this document. We are ignoring capitalizations and NaNs.\n",
    "<br> \n",
    "Corresponding sentiment values as integers:\n",
    "<br>\n",
    "<ul>\n",
    "    <li> 'Positive' as 0 </li>\n",
    "    <li> 'Neutral' as 1 </li>\n",
    "    <li> 'Negative' as 2 </li>\n",
    "</ul>"
   ]
  },
  {
   "cell_type": "code",
   "execution_count": 4,
   "metadata": {},
   "outputs": [],
   "source": [
    "def get_data(data):\n",
    "\n",
    "    #change dataframe to lists\n",
    "    reviews = data.iloc[:,0].dropna().tolist()\n",
    "    sentiment = data.iloc[:,1].dropna().tolist()\n",
    "    \n",
    "    #changing sentiment ()list values to int values\n",
    "    for index, item in enumerate(sentiment):\n",
    "        if item == 'Positive':\n",
    "            sentiment[index] = 0\n",
    "        elif item == 'Neutral':\n",
    "            sentiment[index] = 1\n",
    "        else:\n",
    "            sentiment[index] = 2\n",
    "    return reviews, sentiment"
   ]
  },
  {
   "cell_type": "markdown",
   "metadata": {},
   "source": [
    "The training model performs the following text preprocessing: \n",
    "<br>\n",
    "<ul>\n",
    "    <li>removes capitalization, </li>\n",
    "    <li>removes non-alphabetical symbols (a-z only), </li>\n",
    "    <li>removes stop words (utlizing nltk.corpus), </li>\n",
    "    <li>sets a minimum count (text frequency) for occurences of a word to higher than three </li>\n",
    "</ul>\n",
    "With these preprocessing filters for the reviews, a high accuracy for the text classification can better be achieved.\n"
   ]
  },
  {
   "cell_type": "code",
   "execution_count": 5,
   "metadata": {},
   "outputs": [],
   "source": [
    "model = {}\n",
    "from nltk.corpus import stopwords \n",
    "\n",
    "def train_model(data, sentiment):\n",
    "    stop_words = set(stopwords.words('english'))\n",
    "    sum_words_positive = 0\n",
    "    sum_words_negative = 0\n",
    "    sum_words_neutral = 0\n",
    "    positive_count = 0\n",
    "    negative_count = 0\n",
    "    neutral_count = 0\n",
    "    \n",
    "    reviews = [[y.lower() for y in x.split()]for x in data] \n",
    "    for i, review in enumerate(reviews):\n",
    "        reviews[i] = [word for word in review if word not in stop_words]\n",
    "    count_of_words = {}         \n",
    "    for i, sentence in enumerate(reviews):\n",
    "        for word in sentence:\n",
    "            word = re.sub(r'[^a-z]', '', word)\n",
    "            if word not in model:\n",
    "                model[word] = [0, 0, 0] \n",
    "            #already encountered word\n",
    "            model[word][sentiment[i]] += 1\n",
    "            if word not in count_of_words:\n",
    "                count_of_words[word] = 1\n",
    "            else:\n",
    "                count_of_words[word] += 1\n",
    "\n",
    "        for word, count in count_of_words.items():\n",
    "            if count < 3 and word in model:\n",
    "                model.pop(word)\n",
    "        if sentiment[i] == 0:\n",
    "            sum_words_positive += len(sentence)\n",
    "            positive_count += 1\n",
    "        elif sentiment[i] == 1:\n",
    "            sum_words_neutral += len(sentence)\n",
    "            neutral_count += 1\n",
    "        elif sentiment[i] == 2:\n",
    "            sum_words_negative += len(sentence)\n",
    "            negative_count += 1\n",
    "        else:\n",
    "            continue\n",
    "    \n",
    "    return model, positive_count, negative_count, neutral_count, sum_words_positive, sum_words_negative, sum_words_neutral"
   ]
  },
  {
   "cell_type": "markdown",
   "metadata": {},
   "source": [
    "A partition of the data set is split for train set and test set <b>randomly</b>.\n",
    "<br>\n",
    "Train data is 80% of the dataset. \n",
    "<br>\n",
    "Test data is 20% of the dataset.\n",
    "<br>\n",
    "It is important that the data be partitioned into these two subsets so that the train data set can decide upon the accuracy of the classifier more effectively. We want to randomize the partition so that it is a unique training and test set each time the classifier runs. \n"
   ]
  },
  {
   "cell_type": "code",
   "execution_count": 6,
   "metadata": {},
   "outputs": [],
   "source": [
    "train_data = data.sample(frac=0.8)\n",
    "test_data = data.drop(train_data.index)\n",
    "    \n",
    "train_data, train_sentiment = get_data(train_data)\n",
    "train_model_dict, positive_count, negative_count, neutral_count, sum_words_positive, sum_words_negative, sum_words_neutral = train_model(train_data,train_sentiment)\n",
    "test_data, test_sentiment = get_data(test_data)"
   ]
  },
  {
   "cell_type": "markdown",
   "metadata": {},
   "source": [
    "The probability is calculated below. "
   ]
  },
  {
   "cell_type": "code",
   "execution_count": 7,
   "metadata": {},
   "outputs": [
    {
     "name": "stdout",
     "output_type": "stream",
     "text": [
      "Probabilities: \n",
      "Positive: 0.6413065259501703\n",
      "Neutral: 0.13756596085765813\n",
      "Negative:  0.22112751319217153\n"
     ]
    },
    {
     "data": {
      "image/png": "[encoded data removed]",
      "text/plain": [
       "<Figure size 432x288 with 1 Axes>"
      ]
     },
     "metadata": {},
     "output_type": "display_data"
    }
   ],
   "source": [
    "total = positive_count + negative_count + neutral_count\n",
    "probability_positive = positive_count/total\n",
    "probability_negative = negative_count/total\n",
    "probability_neutral = neutral_count/total\n",
    "\n",
    "print (\"Probabilities: \\n\" + \"Positive: \" + str(probability_positive) + \"\\nNeutral: \"+ str(probability_neutral) + \"\\nNegative:  \" + str(probability_negative) )\n",
    "\n",
    "# Data to plot\n",
    "labels = 'Positive [0]', 'Neutral [1]', 'Negative [2]'\n",
    "sizes = [probability_positive, probability_neutral, probability_negative]\n",
    "colors = ['green', 'yellow', 'red']\n",
    " \n",
    "# Plot\n",
    "plt.pie(sizes, labels=labels, colors=colors,\n",
    "        autopct='%1.1f%%', shadow=True, startangle=140)\n",
    "plt.axis('equal')\n",
    "plt.show()"
   ]
  },
  {
   "cell_type": "markdown",
   "metadata": {},
   "source": [
    "\n",
    "\n"
   ]
  },
  {
   "cell_type": "markdown",
   "metadata": {},
   "source": [
    "To avoid the zero frequency problem we do: \n",
    "![alpha.png](alpha.png)\n",
    "We create a list with its index representing the 0, 1, 2 sentiment values, as previously mentioned."
   ]
  },
  {
   "cell_type": "code",
   "execution_count": 8,
   "metadata": {},
   "outputs": [],
   "source": [
    "def calc_cond_probabilities(train_model_dict, positive_count, negative_count, neutral_count, sum_words_positive, sum_words_negative, sum_words_neutral):\n",
    "    cond_probabilities = {}\n",
    "\n",
    "    for word in model:\n",
    "      \n",
    "        if word not in cond_probabilities:\n",
    "            cond_probabilities[word] = [0, 0, 0]\n",
    "\n",
    "        #calculate conditional probabilities\n",
    "        cond_probabilities[word][0] = (model[word][0] + 1)/(sum_words_positive + len(model))\n",
    "        cond_probabilities[word][1] = (model[word][1] + 1)/(sum_words_neutral + len(model))\n",
    "        cond_probabilities[word][2] = (model[word][2] + 1)/(sum_words_negative + len(model))\n",
    "\n",
    "    return cond_probabilities\n",
    "\n",
    "conditional_probabilities = {}\n",
    "conditional_probabilities = calc_cond_probabilities(train_model_dict, positive_count, negative_count, neutral_count, sum_words_positive, sum_words_negative, sum_words_neutral)"
   ]
  },
  {
   "cell_type": "markdown",
   "metadata": {},
   "source": [
    "To avoid number overflow, we operate on the logs of probabilities on our data below:\n",
    "![log.png](log.png)"
   ]
  },
  {
   "cell_type": "code",
   "execution_count": 9,
   "metadata": {},
   "outputs": [],
   "source": [
    "import math\n",
    "\n",
    "def classify_test_data(words, probablility_positive, probablility_negative, probablility_neutral, conditional_probabilities):\n",
    "    positive = 1\n",
    "    negative = 1\n",
    "    neutral = 1\n",
    "    for word in words:\n",
    "        if word in model:\n",
    "            positive += math.log2(conditional_probabilities[word][0])\n",
    "            neutral += math.log2(conditional_probabilities[word][1])\n",
    "            negative += math.log2(conditional_probabilities[word][2])\n",
    "\n",
    "    positive += math.log2(probability_positive)\n",
    "    negative += math.log2(probability_negative)\n",
    "    neutral += math.log2(probability_neutral)\n",
    "\n",
    "    if (positive > negative) and (positive > neutral):\n",
    "        return 0\n",
    "    elif (neutral > positive) and (neutral > negative):\n",
    "        return 1\n",
    "    else:\n",
    "        return 2"
   ]
  },
  {
   "cell_type": "code",
   "execution_count": 10,
   "metadata": {},
   "outputs": [
    {
     "name": "stdout",
     "output_type": "stream",
     "text": [
      "Accuracy: 73.14629258517033\n"
     ]
    }
   ],
   "source": [
    "result = []\n",
    "for i, element in enumerate(test_data):\n",
    "    words = element.split(' ')\n",
    "    result.append(classify_test_data(words, probability_positive, probability_negative, probability_neutral, conditional_probabilities))\n",
    "\n",
    "\n",
    "correct = 0\n",
    "incorrect = 0\n",
    "\n",
    "for i, j in zip(result, test_sentiment):\n",
    "\n",
    "    if i == j:\n",
    "        correct += 1\n",
    "    else:\n",
    "        incorrect += 1\n",
    "\n",
    "print(\"Accuracy: \" + str((correct/len(test_sentiment))*100))"
   ]
  },
  {
   "cell_type": "markdown",
   "metadata": {},
   "source": [
    "-------------------------------------------"
   ]
  },
  {
   "cell_type": "markdown",
   "metadata": {},
   "source": [
    "The accuracy can be tested with SKlearn's Naive Bayes MultinomialNB module. It implements the naive Bayes algorithm for multinomially distributed data, and is one of the two classic naive Bayes variants used in text classification. We want to compare the effectiveness of the Naive Bayes algorithm above with the result of SKlearn's."
   ]
  },
  {
   "cell_type": "code",
   "execution_count": 11,
   "metadata": {},
   "outputs": [],
   "source": [
    "import pylab"
   ]
  },
  {
   "cell_type": "code",
   "execution_count": 12,
   "metadata": {},
   "outputs": [
    {
     "data": {
      "text/plain": [
       "Index(['Sentiment', 'Translated_Review'], dtype='object')"
      ]
     },
     "execution_count": 12,
     "metadata": {},
     "output_type": "execute_result"
    }
   ],
   "source": [
    "col = ['Sentiment', 'Translated_Review']\n",
    "df = pd.read_csv('googleplaystore_user_reviews.csv', encoding = \"ISO-8859-1\")\n",
    "df = df[pd.notnull(df['Translated_Review'])]\n",
    "df = df[col]\n",
    "df.columns = ['Sentiment', 'Translated_Review']\n",
    "df.columns"
   ]
  },
  {
   "cell_type": "markdown",
   "metadata": {},
   "source": [
    "For this project, we need only two columns — “Sentiment” and “Translated_Review”.\n",
    "We will remove missing values in “Translated_Review” column, and add a column encoding the product as an integer because categorical variables are often better represented by integers than strings.\n",
    "We also create a couple of dictionaries for future use."
   ]
  },
  {
   "cell_type": "code",
   "execution_count": 13,
   "metadata": {},
   "outputs": [
    {
     "data": {
      "text/html": [
       "<div>\n",
       "<style scoped>\n",
       "    .dataframe tbody tr th:only-of-type {\n",
       "        vertical-align: middle;\n",
       "    }\n",
       "\n",
       "    .dataframe tbody tr th {\n",
       "        vertical-align: top;\n",
       "    }\n",
       "\n",
       "    .dataframe thead th {\n",
       "        text-align: right;\n",
       "    }\n",
       "</style>\n",
       "<table border=\"1\" class=\"dataframe\">\n",
       "  <thead>\n",
       "    <tr style=\"text-align: right;\">\n",
       "      <th></th>\n",
       "      <th>Sentiment</th>\n",
       "      <th>Translated_Review</th>\n",
       "      <th>sentiment_id</th>\n",
       "    </tr>\n",
       "  </thead>\n",
       "  <tbody>\n",
       "    <tr>\n",
       "      <th>0</th>\n",
       "      <td>Positive</td>\n",
       "      <td>I like eat delicious food. That's I'm cooking ...</td>\n",
       "      <td>0</td>\n",
       "    </tr>\n",
       "    <tr>\n",
       "      <th>1</th>\n",
       "      <td>Positive</td>\n",
       "      <td>This help eating healthy exercise regular basis</td>\n",
       "      <td>0</td>\n",
       "    </tr>\n",
       "    <tr>\n",
       "      <th>3</th>\n",
       "      <td>Positive</td>\n",
       "      <td>Works great especially going grocery store</td>\n",
       "      <td>0</td>\n",
       "    </tr>\n",
       "    <tr>\n",
       "      <th>4</th>\n",
       "      <td>Positive</td>\n",
       "      <td>Best idea us</td>\n",
       "      <td>0</td>\n",
       "    </tr>\n",
       "    <tr>\n",
       "      <th>5</th>\n",
       "      <td>Positive</td>\n",
       "      <td>Best way</td>\n",
       "      <td>0</td>\n",
       "    </tr>\n",
       "  </tbody>\n",
       "</table>\n",
       "</div>"
      ],
      "text/plain": [
       "  Sentiment                                  Translated_Review  sentiment_id\n",
       "0  Positive  I like eat delicious food. That's I'm cooking ...             0\n",
       "1  Positive    This help eating healthy exercise regular basis             0\n",
       "3  Positive         Works great especially going grocery store             0\n",
       "4  Positive                                       Best idea us             0\n",
       "5  Positive                                           Best way             0"
      ]
     },
     "execution_count": 13,
     "metadata": {},
     "output_type": "execute_result"
    }
   ],
   "source": [
    "df['sentiment_id'] = df['Sentiment'].factorize()[0]\n",
    "sentiment_id_df = df[['Sentiment', 'sentiment_id']].drop_duplicates().sort_values('sentiment_id')\n",
    "sentiment_to_id = dict(sentiment_id_df.values)\n",
    "id_to_sentiment = dict(sentiment_id_df[['sentiment_id', 'Sentiment']].values)\n",
    "df.head()"
   ]
  },
  {
   "cell_type": "code",
   "execution_count": 15,
   "metadata": {},
   "outputs": [
    {
     "name": "stdout",
     "output_type": "stream",
     "text": [
      "              precision    recall  f1-score   support\n",
      "\n",
      "    Positive       0.85      0.39      0.54      2038\n",
      "     Neutral       0.95      0.06      0.12      1237\n",
      "    Negative       0.72      0.99      0.84      6082\n",
      "\n",
      "   micro avg       0.74      0.74      0.74      9357\n",
      "   macro avg       0.84      0.48      0.50      9357\n",
      "weighted avg       0.78      0.74      0.68      9357\n",
      "\n",
      "Accuracy: 73.7629582131025\n"
     ]
    }
   ],
   "source": [
    "from sklearn.model_selection import train_test_split\n",
    "from sklearn.feature_extraction.text import CountVectorizer\n",
    "from sklearn.feature_extraction.text import TfidfTransformer\n",
    "from sklearn.naive_bayes import MultinomialNB\n",
    "\n",
    "X_train, X_test, y_train, y_test = train_test_split(df['Translated_Review'], df['Sentiment'])\n",
    "count_vect = CountVectorizer()\n",
    "X_train_counts = count_vect.fit_transform(X_train)\n",
    "tfidf_transformer = TfidfTransformer()\n",
    "X_train_tfidf = tfidf_transformer.fit_transform(X_train_counts)\n",
    "\n",
    "clf = MultinomialNB().fit(X_train_tfidf, y_train)\n",
    "from sklearn import metrics\n",
    "\n",
    "# (clf.predict(count_vect.transform([\"great app.\"])))\n",
    "y_pred = clf.predict(count_vect.transform(X_test))\n",
    "print(metrics.classification_report(y_test, y_pred, \n",
    "                                    target_names=df['Sentiment'].unique()))\n",
    "print(\"Accuracy: \"+ str(metrics.accuracy_score(y_test, y_pred)*100))"
   ]
  },
  {
   "cell_type": "markdown",
   "metadata": {},
   "source": [
    "--------------------"
   ]
  },
  {
   "cell_type": "markdown",
   "metadata": {},
   "source": [
    "<h3>Conclusion</h3> <br>\n",
    "We can conclude that the text classification on this data is with 72 to 74 per cent accuracy."
   ]
  },
  {
   "cell_type": "code",
   "execution_count": null,
   "metadata": {},
   "outputs": [],
   "source": []
  }
 ],
 "metadata": {
  "kernelspec": {
   "display_name": "Python 3",
   "language": "python",
   "name": "python3"
  },
  "language_info": {
   "codemirror_mode": {
    "name": "ipython",
    "version": 3
   },
   "file_extension": ".py",
   "mimetype": "text/x-python",
   "name": "python",
   "nbconvert_exporter": "python",
   "pygments_lexer": "ipython3",
   "version": "3.7.1"
  }
 },
 "nbformat": 4,
 "nbformat_minor": 2
}
