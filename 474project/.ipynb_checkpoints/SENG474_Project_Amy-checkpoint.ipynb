{
 "cells": [
  {
   "cell_type": "markdown",
   "metadata": {},
   "source": [
    "# Exploring the Android App Market - a Data Mining Analysis of Google Playstore Applications \n",
    "\n"
   ]
  },
  {
   "cell_type": "markdown",
   "metadata": {},
   "source": [
    "SENG 474 Fall 2018 Data Mining Project<br>\n",
    "Cole Boothman St.ID V00808231 <br>\n",
    "Amy Hanvoravongchai V00822271 <br>"
   ]
  },
  {
   "cell_type": "code",
   "execution_count": 140,
   "metadata": {},
   "outputs": [
    {
     "data": {
      "text/html": [
       "<div>\n",
       "<style scoped>\n",
       "    .dataframe tbody tr th:only-of-type {\n",
       "        vertical-align: middle;\n",
       "    }\n",
       "\n",
       "    .dataframe tbody tr th {\n",
       "        vertical-align: top;\n",
       "    }\n",
       "\n",
       "    .dataframe thead th {\n",
       "        text-align: right;\n",
       "    }\n",
       "</style>\n",
       "<table border=\"1\" class=\"dataframe\">\n",
       "  <thead>\n",
       "    <tr style=\"text-align: right;\">\n",
       "      <th></th>\n",
       "      <th>Translated_Review</th>\n",
       "      <th>Sentiment</th>\n",
       "      <th>Sentiment_Polarity</th>\n",
       "      <th>Sentiment_Subjectivity</th>\n",
       "    </tr>\n",
       "  </thead>\n",
       "  <tbody>\n",
       "    <tr>\n",
       "      <th>0</th>\n",
       "      <td>I like eat delicious food. That's I'm cooking ...</td>\n",
       "      <td>Positive</td>\n",
       "      <td>1.00</td>\n",
       "      <td>0.533333</td>\n",
       "    </tr>\n",
       "    <tr>\n",
       "      <th>1</th>\n",
       "      <td>This help eating healthy exercise regular basis</td>\n",
       "      <td>Positive</td>\n",
       "      <td>0.25</td>\n",
       "      <td>0.288462</td>\n",
       "    </tr>\n",
       "    <tr>\n",
       "      <th>2</th>\n",
       "      <td>NaN</td>\n",
       "      <td>NaN</td>\n",
       "      <td>NaN</td>\n",
       "      <td>NaN</td>\n",
       "    </tr>\n",
       "    <tr>\n",
       "      <th>3</th>\n",
       "      <td>Works great especially going grocery store</td>\n",
       "      <td>Positive</td>\n",
       "      <td>0.40</td>\n",
       "      <td>0.875000</td>\n",
       "    </tr>\n",
       "    <tr>\n",
       "      <th>4</th>\n",
       "      <td>Best idea us</td>\n",
       "      <td>Positive</td>\n",
       "      <td>1.00</td>\n",
       "      <td>0.300000</td>\n",
       "    </tr>\n",
       "  </tbody>\n",
       "</table>\n",
       "</div>"
      ],
      "text/plain": [
       "                                   Translated_Review Sentiment  \\\n",
       "0  I like eat delicious food. That's I'm cooking ...  Positive   \n",
       "1    This help eating healthy exercise regular basis  Positive   \n",
       "2                                                NaN       NaN   \n",
       "3         Works great especially going grocery store  Positive   \n",
       "4                                       Best idea us  Positive   \n",
       "\n",
       "   Sentiment_Polarity  Sentiment_Subjectivity  \n",
       "0                1.00                0.533333  \n",
       "1                0.25                0.288462  \n",
       "2                 NaN                     NaN  \n",
       "3                0.40                0.875000  \n",
       "4                1.00                0.300000  "
      ]
     },
     "execution_count": 140,
     "metadata": {},
     "output_type": "execute_result"
    }
   ],
   "source": [
    "import pandas as pd\n",
    "import random\n",
    "import re\n",
    "\n",
    "# Read the data from a file\n",
    "data = pd.read_csv('googleplaystore_user_reviews.csv', encoding = \"ISO-8859-1\")\n",
    "data = data.iloc[:, 1:]\n",
    "data.head()"
   ]
  },
  {
   "cell_type": "code",
   "execution_count": 141,
   "metadata": {},
   "outputs": [],
   "source": [
    "model = {}\n",
    "def train_model(data):\n",
    "\n",
    "    sum_words_positive = 0\n",
    "    sum_words_negative = 0\n",
    "    sum_words_neutral = 0\n",
    "    positive_count = 0\n",
    "    negative_count = 0\n",
    "    neutral_count = 0\n",
    "    \n",
    "    #change dataframe to lists\n",
    "    reviews = data.iloc[:,0].dropna().tolist()\n",
    "    sentiment = data.iloc[:,1].dropna().tolist()\n",
    "    \n",
    "    #changing sentiment ()list values to int values haha\n",
    "    for index, item in enumerate(sentiment):\n",
    "        if item == 'Positive':\n",
    "            sentiment[index] = 0\n",
    "        elif item == 'Neutral':\n",
    "            sentiment[index] = 1\n",
    "        else: #negative\n",
    "            sentiment[index] = 2\n",
    "    \n",
    "    reviews = [[y.lower() for y in x.split()]for x in reviews] \n",
    "    for i, sentence in enumerate(reviews):\n",
    "        for word in sentence:\n",
    "            word = re.sub(r'[^a-z]', '', word)\n",
    "            if word not in model:\n",
    "                model[word] = [0, 0, 0] \n",
    "            model[word][sentiment[i]] += 1\n",
    "            \n",
    "        if sentiment[i] == 0:\n",
    "            sum_words_positive += len(sentence)\n",
    "            positive_count += 1\n",
    "        elif sentiment[i] == 1:\n",
    "            sum_words_negative += len(sentence)\n",
    "            negative_count += 1\n",
    "        elif sentiment[i] == 2:\n",
    "            sum_words_neutral += len(sentence)\n",
    "            neutral_count += 1\n",
    "        else:\n",
    "            continue\n",
    "    \n",
    "    return model, positive_count, negative_count, neutral_count, sum_words_positive, sum_words_negative, sum_words_neutral\n",
    "\n",
    "# train_model()"
   ]
  },
  {
   "cell_type": "code",
   "execution_count": 142,
   "metadata": {},
   "outputs": [
    {
     "name": "stdout",
     "output_type": "stream",
     "text": [
      "Probabilities: \n",
      "Positive: 0.6638513513513513\n",
      "Negative: 0.1458138603284818\n",
      "Neutral: 0.22980371211109626\n"
     ]
    }
   ],
   "source": [
    "#split dataframe frame up for train/test randomly\n",
    "train_data = data.sample(frac=0.8,random_state=200)\n",
    "test_data = data.drop(train_data.index)\n",
    "    \n",
    "train_data, positive_count, negative_count, neutral_count, sum_words_positive, sum_words_negative, sum_words_neutral = train_model(train_data)\n",
    "test_data , positive_count, negative_count, neutral_count, sum_words_positive, sum_words_negative, sum_words_neutral =train_model(test_data)\n",
    "total = positive_count + negative_count + neutral_count\n",
    "probability_positive = positive_count/total\n",
    "probability_negative = negative_count/total\n",
    "probability_neutral = neutral_count/total\n",
    "\n",
    "print (\"Probabilities: \\n\" + \"Positive: \" + str(probablility_positive) + \"\\nNegative: \" + str(probability_negative) + \"\\nNeutral: \" + str(probability_neutral))\n",
    "\n",
    "\n"
   ]
  },
  {
   "cell_type": "code",
   "execution_count": 143,
   "metadata": {},
   "outputs": [],
   "source": [
    "conditional_probabilities = {}\n",
    "\n",
    "def calc_cond_probabilities(train_model, positive_count, negative_count, neutral_count, sum_words_positive, sum_words_negative, sum_words_neutral):\n",
    "    cond_probabilities = {}\n",
    "\n",
    "    for word in model:\n",
    "        if word not in cond_probabilities:\n",
    "            cond_probabilities[word] = [0, 0, 0]\n",
    "\n",
    "        #calculate conditional probabilities P(word|wise) & P(word|prediction)\n",
    "        cond_probabilities[word][0] = (model[word][0] + 1)/(sum_words_positive + len(model))\n",
    "        cond_probabilities[word][1] = (model[word][1] + 1)/(sum_words_negative + len(model))\n",
    "        cond_probabilities[word][2] = (model[word][1] + 1)/(sum_words_neutral + len(model))\n",
    "\n",
    "    return cond_probabilities\n",
    "\n",
    "conditional_probabilities = calc_cond_probabilities(train_model, positive_count, negative_count, neutral_count, sum_words_positive, sum_words_negative, sum_words_neutral)\n",
    "# print (conditional_probabilities)"
   ]
  },
  {
   "cell_type": "code",
   "execution_count": 146,
   "metadata": {},
   "outputs": [
    {
     "ename": "NameError",
     "evalue": "name 'sentiment' is not defined",
     "output_type": "error",
     "traceback": [
      "\u001b[0;31m---------------------------------------------------------------------------\u001b[0m",
      "\u001b[0;31mNameError\u001b[0m                                 Traceback (most recent call last)",
      "\u001b[0;32m<ipython-input-146-fc0a254637ec>\u001b[0m in \u001b[0;36m<module>\u001b[0;34m\u001b[0m\n\u001b[1;32m     29\u001b[0m         \u001b[0mincorrect\u001b[0m \u001b[0;34m+=\u001b[0m \u001b[0;36m1\u001b[0m\u001b[0;34m\u001b[0m\u001b[0m\n\u001b[1;32m     30\u001b[0m \u001b[0;34m\u001b[0m\u001b[0m\n\u001b[0;32m---> 31\u001b[0;31m \u001b[0mprint\u001b[0m\u001b[0;34m(\u001b[0m\u001b[0;34m\"Accuracy: \"\u001b[0m \u001b[0;34m+\u001b[0m \u001b[0mstr\u001b[0m\u001b[0;34m(\u001b[0m\u001b[0;34m(\u001b[0m\u001b[0mcorrect\u001b[0m\u001b[0;34m/\u001b[0m\u001b[0mlen\u001b[0m\u001b[0;34m(\u001b[0m\u001b[0msentiment\u001b[0m\u001b[0;34m)\u001b[0m\u001b[0;34m)\u001b[0m\u001b[0;34m*\u001b[0m\u001b[0;36m100\u001b[0m\u001b[0;34m)\u001b[0m\u001b[0;34m)\u001b[0m\u001b[0;34m\u001b[0m\u001b[0m\n\u001b[0m",
      "\u001b[0;31mNameError\u001b[0m: name 'sentiment' is not defined"
     ]
    }
   ],
   "source": [
    "def classify_test_data(words, probablility_positive, probablility_negative, probablility_neutral, conditional_probabilities):\n",
    "    temp_positive = 1\n",
    "    temp_negative = 1\n",
    "    temp_neutral = 1\n",
    "    for word in words:\n",
    "        if word in model:\n",
    "            temp_positive *= conditional_probabilities[word][0]\n",
    "            temp_negative *= conditional_probabilities[word][1]\n",
    "            temp_neutral *= conditional_probabilities[word][2]\n",
    "\n",
    "    temp_positive *= probability_positive\n",
    "    temp_negative *= probability_negative\n",
    "    temp_neutral *= probability_neutral\n",
    "\n",
    "    \n",
    "    return 1\n",
    "\n",
    "result = []\n",
    "for i, element in enumerate(test_data):\n",
    "    words = element.split(' ')\n",
    "    result.append(classify_test_data(words, probablility_positive, probablility_negative, probablility_neutral, conditional_probabilities))\n",
    "\n",
    "correct = 0\n",
    "incorrect = 0\n",
    "for i, j in zip(result, test_data):\n",
    "    if i == j:\n",
    "        correct += 1\n",
    "    else:\n",
    "        incorrect += 1\n",
    "\n",
    "print(\"Accuracy: \" + str((correct/len(sentiment))*100))"
   ]
  },
  {
   "cell_type": "code",
   "execution_count": 120,
   "metadata": {},
   "outputs": [
    {
     "ename": "NameError",
     "evalue": "name 'classify_test_data' is not defined",
     "output_type": "error",
     "traceback": [
      "\u001b[0;31m---------------------------------------------------------------------------\u001b[0m",
      "\u001b[0;31mNameError\u001b[0m                                 Traceback (most recent call last)",
      "\u001b[0;32m<ipython-input-120-1eef80074e37>\u001b[0m in \u001b[0;36m<module>\u001b[0;34m\u001b[0m\n\u001b[1;32m      2\u001b[0m \u001b[0;32mfor\u001b[0m \u001b[0mi\u001b[0m\u001b[0;34m,\u001b[0m \u001b[0melement\u001b[0m \u001b[0;32min\u001b[0m \u001b[0menumerate\u001b[0m\u001b[0;34m(\u001b[0m\u001b[0mtrain_data\u001b[0m\u001b[0;34m)\u001b[0m\u001b[0;34m:\u001b[0m\u001b[0;34m\u001b[0m\u001b[0m\n\u001b[1;32m      3\u001b[0m     \u001b[0mwords\u001b[0m \u001b[0;34m=\u001b[0m \u001b[0melement\u001b[0m\u001b[0;34m.\u001b[0m\u001b[0msplit\u001b[0m\u001b[0;34m(\u001b[0m\u001b[0;34m' '\u001b[0m\u001b[0;34m)\u001b[0m\u001b[0;34m\u001b[0m\u001b[0m\n\u001b[0;32m----> 4\u001b[0;31m     \u001b[0mresult\u001b[0m\u001b[0;34m.\u001b[0m\u001b[0mappend\u001b[0m\u001b[0;34m(\u001b[0m\u001b[0mclassify_test_data\u001b[0m\u001b[0;34m(\u001b[0m\u001b[0mwords\u001b[0m\u001b[0;34m,\u001b[0m \u001b[0mprobablility_positive\u001b[0m\u001b[0;34m,\u001b[0m \u001b[0mprobablility_negative\u001b[0m\u001b[0;34m,\u001b[0m \u001b[0mprobablility_neutral\u001b[0m\u001b[0;34m,\u001b[0m \u001b[0mconditional_probabilities\u001b[0m\u001b[0;34m)\u001b[0m\u001b[0;34m)\u001b[0m\u001b[0;34m\u001b[0m\u001b[0m\n\u001b[0m\u001b[1;32m      5\u001b[0m \u001b[0;34m\u001b[0m\u001b[0m\n\u001b[1;32m      6\u001b[0m \u001b[0mcorrect\u001b[0m \u001b[0;34m=\u001b[0m \u001b[0;36m0\u001b[0m\u001b[0;34m\u001b[0m\u001b[0m\n",
      "\u001b[0;31mNameError\u001b[0m: name 'classify_test_data' is not defined"
     ]
    }
   ],
   "source": [
    "\n",
    "\n"
   ]
  },
  {
   "cell_type": "code",
   "execution_count": 121,
   "metadata": {},
   "outputs": [],
   "source": []
  },
  {
   "cell_type": "code",
   "execution_count": null,
   "metadata": {},
   "outputs": [],
   "source": []
  }
 ],
 "metadata": {
  "kernelspec": {
   "display_name": "Python 3",
   "language": "python",
   "name": "python3"
  },
  "language_info": {
   "codemirror_mode": {
    "name": "ipython",
    "version": 3
   },
   "file_extension": ".py",
   "mimetype": "text/x-python",
   "name": "python",
   "nbconvert_exporter": "python",
   "pygments_lexer": "ipython3",
   "version": "3.7.0"
  }
 },
 "nbformat": 4,
 "nbformat_minor": 2
}
