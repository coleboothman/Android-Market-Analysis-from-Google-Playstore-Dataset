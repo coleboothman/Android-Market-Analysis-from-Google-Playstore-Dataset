{
 "cells": [
  {
   "cell_type": "markdown",
   "metadata": {},
   "source": [
    "# Exploring the Android App Market - A Data Mining Analysis of Google Playstore Applications \n",
    "\n"
   ]
  },
  {
   "cell_type": "markdown",
   "metadata": {},
   "source": [
    "SENG 474 Fall 2018 Data Mining Project<br>\n",
    "Cole Boothman St.ID V00808231 <br>\n",
    "Amy Hanvoravongchai V00822271 <br>"
   ]
  },
  {
   "cell_type": "markdown",
   "metadata": {},
   "source": [
    "Using the Naive Bayes text classification algorithm, an analysis of user reviews was made based on the sentiment rating given to each review. \n",
    "<br>\n",
    "This data file contains the first 'most relevant' 100 reviews for each app. Each review text or comment has been pre-processed and attributed with 3 new features: Sentiment, Sentiment Polarity and Sentiment Subjectivity.\n",
    "The user reviews data for application of the Google Playstore has a total of 37427 entries."
   ]
  },
  {
   "cell_type": "markdown",
   "metadata": {},
   "source": [
    "The first thing we need to do is load our data file. The data is in CSV format without a header line or any quotes. We can open the file with the open function and read the data lines using the reader function in the CSV module."
   ]
  },
  {
   "cell_type": "code",
   "execution_count": 1,
   "metadata": {
    "scrolled": true
   },
   "outputs": [
    {
     "data": {
      "text/html": [
       "<div>\n",
       "<style scoped>\n",
       "    .dataframe tbody tr th:only-of-type {\n",
       "        vertical-align: middle;\n",
       "    }\n",
       "\n",
       "    .dataframe tbody tr th {\n",
       "        vertical-align: top;\n",
       "    }\n",
       "\n",
       "    .dataframe thead th {\n",
       "        text-align: right;\n",
       "    }\n",
       "</style>\n",
       "<table border=\"1\" class=\"dataframe\">\n",
       "  <thead>\n",
       "    <tr style=\"text-align: right;\">\n",
       "      <th></th>\n",
       "      <th>Translated_Review</th>\n",
       "      <th>Sentiment</th>\n",
       "      <th>Sentiment_Polarity</th>\n",
       "      <th>Sentiment_Subjectivity</th>\n",
       "    </tr>\n",
       "  </thead>\n",
       "  <tbody>\n",
       "    <tr>\n",
       "      <th>0</th>\n",
       "      <td>I like eat delicious food. That's I'm cooking ...</td>\n",
       "      <td>Positive</td>\n",
       "      <td>1.00</td>\n",
       "      <td>0.533333</td>\n",
       "    </tr>\n",
       "    <tr>\n",
       "      <th>1</th>\n",
       "      <td>This help eating healthy exercise regular basis</td>\n",
       "      <td>Positive</td>\n",
       "      <td>0.25</td>\n",
       "      <td>0.288462</td>\n",
       "    </tr>\n",
       "    <tr>\n",
       "      <th>2</th>\n",
       "      <td>NaN</td>\n",
       "      <td>NaN</td>\n",
       "      <td>NaN</td>\n",
       "      <td>NaN</td>\n",
       "    </tr>\n",
       "    <tr>\n",
       "      <th>3</th>\n",
       "      <td>Works great especially going grocery store</td>\n",
       "      <td>Positive</td>\n",
       "      <td>0.40</td>\n",
       "      <td>0.875000</td>\n",
       "    </tr>\n",
       "    <tr>\n",
       "      <th>4</th>\n",
       "      <td>Best idea us</td>\n",
       "      <td>Positive</td>\n",
       "      <td>1.00</td>\n",
       "      <td>0.300000</td>\n",
       "    </tr>\n",
       "  </tbody>\n",
       "</table>\n",
       "</div>"
      ],
      "text/plain": [
       "                                   Translated_Review Sentiment  \\\n",
       "0  I like eat delicious food. That's I'm cooking ...  Positive   \n",
       "1    This help eating healthy exercise regular basis  Positive   \n",
       "2                                                NaN       NaN   \n",
       "3         Works great especially going grocery store  Positive   \n",
       "4                                       Best idea us  Positive   \n",
       "\n",
       "   Sentiment_Polarity  Sentiment_Subjectivity  \n",
       "0                1.00                0.533333  \n",
       "1                0.25                0.288462  \n",
       "2                 NaN                     NaN  \n",
       "3                0.40                0.875000  \n",
       "4                1.00                0.300000  "
      ]
     },
     "execution_count": 1,
     "metadata": {},
     "output_type": "execute_result"
    }
   ],
   "source": [
    "import pandas as pd\n",
    "import random\n",
    "import re\n",
    "\n",
    "# Read the data from a file\n",
    "data = pd.read_csv('googleplaystore_user_reviews.csv', encoding = \"ISO-8859-1\")\n",
    "data = data.iloc[:, 1:]\n",
    "data.head()"
   ]
  },
  {
   "cell_type": "code",
   "execution_count": 2,
   "metadata": {},
   "outputs": [
    {
     "name": "stdout",
     "output_type": "stream",
     "text": [
      "<class 'pandas.core.frame.DataFrame'>\n",
      "Int64Index: 37427 entries, 0 to 64230\n",
      "Data columns (total 4 columns):\n",
      "Translated_Review         37427 non-null object\n",
      "Sentiment                 37427 non-null object\n",
      "Sentiment_Polarity        37427 non-null float64\n",
      "Sentiment_Subjectivity    37427 non-null float64\n",
      "dtypes: float64(2), object(2)\n",
      "memory usage: 1.4+ MB\n"
     ]
    }
   ],
   "source": [
    "data = data[pd.notnull(data['Translated_Review'])]\n",
    "data.info()"
   ]
  },
  {
   "cell_type": "markdown",
   "metadata": {},
   "source": [
    "In the figure below, is a graphic for the reviews grouped by their sentiment value. Positive value seems to be highest, by far, and neutral as lowest. "
   ]
  },
  {
   "cell_type": "code",
   "execution_count": 3,
   "metadata": {},
   "outputs": [
    {
     "data": {
      "text/plain": [
       "<Figure size 800x600 with 1 Axes>"
      ]
     },
     "metadata": {},
     "output_type": "display_data"
    }
   ],
   "source": [
    "import matplotlib.pyplot as plt\n",
    "fig = plt.figure(figsize=(8,6))\n",
    "data.groupby('Sentiment').Translated_Review.count().plot.barh(ylim=0)\n",
    "plt.show()"
   ]
  },
  {
   "cell_type": "markdown",
   "metadata": {},
   "source": [
    "We want to convert obtained dataframe into list. It filters out irrelevant columns not used in this document. We are ignoring capitalizations and NaNs.\n",
    "<br> \n",
    "Corresponding sentiment values as integers:\n",
    "<br>\n",
    "<ul>\n",
    "    <li> 'Positive' as 0 </li>\n",
    "    <li> 'Neutral' as 1 </li>\n",
    "    <li> 'Negative' as 2 </li>\n",
    "</ul>"
   ]
  },
  {
   "cell_type": "code",
   "execution_count": 4,
   "metadata": {},
   "outputs": [],
   "source": [
    "def get_data(data):\n",
    "\n",
    "    #change dataframe to lists\n",
    "    reviews = data.iloc[:,0].dropna().tolist()\n",
    "    sentiment = data.iloc[:,1].dropna().tolist()\n",
    "    \n",
    "    #changing sentiment ()list values to int values\n",
    "    for index, item in enumerate(sentiment):\n",
    "        if item == 'Positive':\n",
    "            sentiment[index] = 0\n",
    "        elif item == 'Neutral':\n",
    "            sentiment[index] = 1\n",
    "        else:\n",
    "            sentiment[index] = 2\n",
    "    return reviews, sentiment"
   ]
  },
  {
   "cell_type": "markdown",
   "metadata": {},
   "source": [
    "The training model <br>\n"
   ]
  },
  {
   "cell_type": "code",
   "execution_count": 5,
   "metadata": {},
   "outputs": [],
   "source": [
    "model = {}\n",
    "from nltk.corpus import stopwords \n",
    "\n",
    "def train_model(data, sentiment):\n",
    "    stop_words = set(stopwords.words('english'))\n",
    "    sum_words_positive = 0\n",
    "    sum_words_negative = 0\n",
    "    sum_words_neutral = 0\n",
    "    positive_count = 0\n",
    "    negative_count = 0\n",
    "    neutral_count = 0\n",
    "    \n",
    "    reviews = [[y.lower() for y in x.split()]for x in data] \n",
    "    for i, review in enumerate(reviews):\n",
    "        reviews[i] = [word for word in review if word not in stop_words]\n",
    "    count_of_words = {}         \n",
    "    for i, sentence in enumerate(reviews):\n",
    "        for word in sentence:\n",
    "            word = re.sub(r'[^a-z]', '', word)\n",
    "            if word not in model:\n",
    "                model[word] = [0, 0, 0] \n",
    "            #already encountered word\n",
    "            model[word][sentiment[i]] += 1\n",
    "            if word not in count_of_words:\n",
    "                count_of_words[word] = 1\n",
    "            else:\n",
    "                count_of_words[word] += 1\n",
    "\n",
    "        for word, count in count_of_words.items():\n",
    "            if count < 3 and word in model:\n",
    "                model.pop(word)\n",
    "        if sentiment[i] == 0:\n",
    "            sum_words_positive += len(sentence)\n",
    "            positive_count += 1\n",
    "        elif sentiment[i] == 1:\n",
    "            sum_words_neutral += len(sentence)\n",
    "            neutral_count += 1\n",
    "        elif sentiment[i] == 2:\n",
    "            sum_words_negative += len(sentence)\n",
    "            negative_count += 1\n",
    "        else:\n",
    "            continue\n",
    "    \n",
    "    return model, positive_count, negative_count, neutral_count, sum_words_positive, sum_words_negative, sum_words_neutral"
   ]
  },
  {
   "cell_type": "code",
   "execution_count": 6,
   "metadata": {},
   "outputs": [],
   "source": [
    "#split dataframe frame up for train/test randomly of 80% and 20% sets, respectively\n",
    "train_data = data.sample(frac=0.8)\n",
    "test_data = data.drop(train_data.index)\n",
    "    \n",
    "train_data, train_sentiment = get_data(train_data)\n",
    "train_model_dict, positive_count, negative_count, neutral_count, sum_words_positive, sum_words_negative, sum_words_neutral = train_model(train_data,train_sentiment)\n",
    "test_data, test_sentiment = get_data(test_data)"
   ]
  },
  {
   "cell_type": "code",
   "execution_count": 13,
   "metadata": {},
   "outputs": [
    {
     "name": "stdout",
     "output_type": "stream",
     "text": [
      "Probabilities: \n",
      "Positive: 0.6404381804822658\n",
      "Neutral: 0.13823391890989245\n",
      "Negative:  0.22132790060784183\n"
     ]
    },
    {
     "data": {
      "image/png": "[encoded data removed]",
      "text/plain": [
       "<Figure size 432x288 with 1 Axes>"
      ]
     },
     "metadata": {},
     "output_type": "display_data"
    }
   ],
   "source": [
    "total = positive_count + negative_count + neutral_count\n",
    "probability_positive = positive_count/total\n",
    "probability_negative = negative_count/total\n",
    "probability_neutral = neutral_count/total\n",
    "\n",
    "print (\"Probabilities: \\n\" + \"Positive: \" + str(probability_positive) + \"\\nNeutral: \"+ str(probability_neutral) + \"\\nNegative:  \" + str(probability_negative))\n",
    "\n",
    "# Data to plot\n",
    "labels = 'Positive [0]', 'Neutral [1]', 'Negative [2]'\n",
    "sizes = [probability_positive, probability_neutral, probability_negative]\n",
    "colors = ['green', 'yellow', 'red']\n",
    " \n",
    "# Plot\n",
    "plt.pie(sizes, labels=labels, colors=colors,\n",
    "        autopct='%1.1f%%', shadow=True, startangle=140)\n",
    "plt.axis('equal')\n",
    "plt.show()"
   ]
  },
  {
   "cell_type": "code",
   "execution_count": 12,
   "metadata": {
    "scrolled": true
   },
   "outputs": [],
   "source": [
    "\n",
    "def calc_cond_probabilities(train_model_dict, positive_count, negative_count, neutral_count, sum_words_positive, sum_words_negative, sum_words_neutral):\n",
    "    cond_probabilities = {}\n",
    "\n",
    "    for word in model:\n",
    "      \n",
    "        if word not in cond_probabilities:\n",
    "            cond_probabilities[word] = [0, 0, 0]\n",
    "\n",
    "        #calculate conditional probabilities\n",
    "        cond_probabilities[word][0] = (model[word][0] + 1)/(sum_words_positive + len(model))\n",
    "        cond_probabilities[word][1] = (model[word][1] + 1)/(sum_words_neutral + len(model))\n",
    "        cond_probabilities[word][2] = (model[word][2] + 1)/(sum_words_negative + len(model))\n",
    "\n",
    "    return cond_probabilities\n",
    "\n",
    "conditional_probabilities = {}\n",
    "conditional_probabilities = calc_cond_probabilities(train_model_dict, positive_count, negative_count, neutral_count, sum_words_positive, sum_words_negative, sum_words_neutral)"
   ]
  },
  {
   "cell_type": "code",
   "execution_count": 9,
   "metadata": {},
   "outputs": [],
   "source": [
    "import math\n",
    "\n",
    "def classify_test_data(words, probablility_positive, probablility_negative, probablility_neutral, conditional_probabilities):\n",
    "    temp_positive = 1\n",
    "    temp_negative = 1\n",
    "    temp_neutral = 1\n",
    "    for word in words:\n",
    "        if word in model:\n",
    "            temp_positive += math.log2(conditional_probabilities[word][0])\n",
    "            temp_neutral += math.log2(conditional_probabilities[word][1])\n",
    "            temp_negative += math.log2(conditional_probabilities[word][2])\n",
    "\n",
    "    temp_positive += math.log2(probability_positive)\n",
    "    temp_negative += math.log2(probability_negative)\n",
    "    temp_neutral += math.log2(probability_neutral)\n",
    "\n",
    "    if (temp_positive > temp_negative) and (temp_positive > temp_neutral):\n",
    "        value = temp_positive\n",
    "        return 0\n",
    "    elif (temp_neutral > temp_positive) and (temp_neutral > temp_negative):\n",
    "        value = temp_neutral\n",
    "        return 1\n",
    "    else:\n",
    "        value = temp_negative\n",
    "        return 2"
   ]
  },
  {
   "cell_type": "code",
   "execution_count": null,
   "metadata": {},
   "outputs": [],
   "source": [
    "result = []\n",
    "for i, element in enumerate(test_data):\n",
    "    words = element.split(' ')\n",
    "    result.append(classify_test_data(words, probability_positive, probability_negative, probability_neutral, conditional_probabilities))"
   ]
  },
  {
   "cell_type": "code",
   "execution_count": 10,
   "metadata": {},
   "outputs": [
    {
     "name": "stdout",
     "output_type": "stream",
     "text": [
      "Accuracy: 73.14629258517033\n"
     ]
    }
   ],
   "source": [
    "correct = 0\n",
    "incorrect = 0\n",
    "\n",
    "for i, j in zip(result, test_sentiment):\n",
    "\n",
    "    if i == j:\n",
    "        correct += 1\n",
    "    else:\n",
    "        incorrect += 1\n",
    "\n",
    "print(\"Accuracy: \" + str((correct/len(test_sentiment))*100))"
   ]
  },
  {
   "cell_type": "code",
   "execution_count": null,
   "metadata": {},
   "outputs": [],
   "source": []
  },
  {
   "cell_type": "code",
   "execution_count": null,
   "metadata": {},
   "outputs": [],
   "source": []
  }
 ],
 "metadata": {
  "kernelspec": {
   "display_name": "Python 3",
   "language": "python",
   "name": "python3"
  },
  "language_info": {
   "codemirror_mode": {
    "name": "ipython",
    "version": 3
   },
   "file_extension": ".py",
   "mimetype": "text/x-python",
   "name": "python",
   "nbconvert_exporter": "python",
   "pygments_lexer": "ipython3",
   "version": "3.7.1"
  }
 },
 "nbformat": 4,
 "nbformat_minor": 2
}
